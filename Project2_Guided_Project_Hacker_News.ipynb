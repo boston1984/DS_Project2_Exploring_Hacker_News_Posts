{
 "cells": [
  {
   "cell_type": "markdown",
   "metadata": {},
   "source": [
    "# Exploring Hacker News Posts"
   ]
  },
  {
   "cell_type": "markdown",
   "metadata": {},
   "source": [
    "#### This projects compares and analyzes two different types of posts from Hacker News (HN), a popular site where technology related stories (posts) are voted and commented on.  The two types of posts on HN are \"Ask HN\" and \"Show HN\".\n",
    "\n",
    "#### The \"Ask HN\" posts is where users ask and post technology related questions, such as \"How many photons are received per bit transmitted from Voyager 1?\".  Whereas \"Show HN\" is where users post to the HN community site to show a project, product, or anything interesting relating to technology."
   ]
  },
  {
   "cell_type": "markdown",
   "metadata": {},
   "source": [
    "### For this project we want to know the following:\n",
    "#### - Do \"Ask HN\" or \"Show HN\"recievie more posts on average?\n",
    "#### - Do posts created ata certain time recieve more comments on average?"
   ]
  },
  {
   "cell_type": "code",
   "execution_count": 1,
   "metadata": {},
   "outputs": [],
   "source": [
    "from csv import reader\n",
    "\n",
    "with open('hacker_news.csv', 'r') as open_file:\n",
    "    read_file = reader(open_file)\n",
    "    hn = list(read_file)"
   ]
  },
  {
   "cell_type": "code",
   "execution_count": 2,
   "metadata": {},
   "outputs": [
    {
     "name": "stdout",
     "output_type": "stream",
     "text": [
      "['id', 'title', 'url', 'num_points', 'num_comments', 'author', 'created_at']\n",
      "['12224879', 'Interactive Dynamic Video', 'http://www.interactivedynamicvideo.com/', '386', '52', 'ne0phyte', '8/4/2016 11:52']\n",
      "['10975351', 'How to Use Open Source and Shut the Fuck Up at the Same Time', 'http://hueniverse.com/2016/01/26/how-to-use-open-source-and-shut-the-fuck-up-at-the-same-time/', '39', '10', 'josep2', '1/26/2016 19:30']\n",
      "['11964716', \"Florida DJs May Face Felony for April Fools' Water Joke\", 'http://www.thewire.com/entertainment/2013/04/florida-djs-april-fools-water-joke/63798/', '2', '1', 'vezycash', '6/23/2016 22:20']\n",
      "['11919867', 'Technology ventures: From Idea to Enterprise', 'https://www.amazon.com/Technology-Ventures-Enterprise-Thomas-Byers/dp/0073523429', '3', '1', 'hswarna', '6/17/2016 0:01']\n"
     ]
    }
   ],
   "source": [
    "for row in hn[:5]:\n",
    "    print(row)"
   ]
  },
  {
   "cell_type": "code",
   "execution_count": 3,
   "metadata": {},
   "outputs": [
    {
     "name": "stdout",
     "output_type": "stream",
     "text": [
      "['id', 'title', 'url', 'num_points', 'num_comments', 'author', 'created_at']\n",
      "['12224879', 'Interactive Dynamic Video', 'http://www.interactivedynamicvideo.com/', '386', '52', 'ne0phyte', '8/4/2016 11:52']\n",
      "['10975351', 'How to Use Open Source and Shut the Fuck Up at the Same Time', 'http://hueniverse.com/2016/01/26/how-to-use-open-source-and-shut-the-fuck-up-at-the-same-time/', '39', '10', 'josep2', '1/26/2016 19:30']\n",
      "['11964716', \"Florida DJs May Face Felony for April Fools' Water Joke\", 'http://www.thewire.com/entertainment/2013/04/florida-djs-april-fools-water-joke/63798/', '2', '1', 'vezycash', '6/23/2016 22:20']\n",
      "['11919867', 'Technology ventures: From Idea to Enterprise', 'https://www.amazon.com/Technology-Ventures-Enterprise-Thomas-Byers/dp/0073523429', '3', '1', 'hswarna', '6/17/2016 0:01']\n",
      "['10301696', 'Note by Note: The Making of Steinway L1037 (2007)', 'http://www.nytimes.com/2007/11/07/movies/07stein.html?_r=0', '8', '2', 'walterbell', '9/30/2015 4:12']\n"
     ]
    }
   ],
   "source": [
    "headers = hn[0]\n",
    "hn= hn[1:]\n",
    "print(headers)\n",
    "\n",
    "for row in hn[:5]:\n",
    "    print(row)"
   ]
  },
  {
   "cell_type": "markdown",
   "metadata": {},
   "source": [
    "### Filtering the Data Set and Creating a New List for \"Ask HN\" and \"Show HN\""
   ]
  },
  {
   "cell_type": "code",
   "execution_count": 4,
   "metadata": {},
   "outputs": [
    {
     "name": "stdout",
     "output_type": "stream",
     "text": [
      "1744\n",
      "1162\n",
      "17194\n"
     ]
    }
   ],
   "source": [
    "ask_posts = []\n",
    "show_posts = []\n",
    "other_posts = []\n",
    "\n",
    "for row in hn:\n",
    "    title = row[1]\n",
    "    \n",
    "    if title.lower().startswith('ask hn'):\n",
    "        ask_posts.append(row)\n",
    "        \n",
    "    elif title.lower().startswith('show hn'):\n",
    "        show_posts.append(row)\n",
    "    \n",
    "    else:\n",
    "        other_posts.append(row)\n",
    "\n",
    "print(len(ask_posts))\n",
    "print(len(show_posts))\n",
    "print(len(other_posts))\n",
    "\n"
   ]
  },
  {
   "cell_type": "markdown",
   "metadata": {},
   "source": [
    "### Which Received More Comments: \"Ask HN\" or \"Show HN\""
   ]
  },
  {
   "cell_type": "code",
   "execution_count": 5,
   "metadata": {},
   "outputs": [
    {
     "name": "stdout",
     "output_type": "stream",
     "text": [
      "14.038417431192661\n"
     ]
    }
   ],
   "source": [
    "total_ask_comments = 0\n",
    "\n",
    "for row in ask_posts:\n",
    "    num_comments = int(row[-3])\n",
    "    total_ask_comments += num_comments\n",
    "    avg_ask_comments = total_ask_comments/len(ask_posts)\n",
    "\n",
    "print(avg_ask_comments)"
   ]
  },
  {
   "cell_type": "code",
   "execution_count": 6,
   "metadata": {},
   "outputs": [
    {
     "name": "stdout",
     "output_type": "stream",
     "text": [
      "10.31669535283993\n"
     ]
    }
   ],
   "source": [
    "total_show_comments = 0\n",
    "\n",
    "for row in show_posts:\n",
    "    num_comments = int(row[-3])\n",
    "    total_show_comments += num_comments\n",
    "    avg_show_comments = total_show_comments/len(show_posts)\n",
    "    \n",
    "print(avg_show_comments)"
   ]
  },
  {
   "cell_type": "markdown",
   "metadata": {},
   "source": [
    "#### Based on the average number of comments in both catgeories: \"ask HN\" and \"show HN\", it appears \"ask HN\" has a much higher comments on average (average: 14) comapred to \"show HN\" which only has an average comments of ~10. \n",
    "\n",
    "#### Since \"ask HN\" posts has a higher average than \"show HN\" posts, we will focus our remaining analysis on \"ask HN\" posts."
   ]
  },
  {
   "cell_type": "markdown",
   "metadata": {},
   "source": [
    "### Number of Comments Attracted at Certain Time Points"
   ]
  },
  {
   "cell_type": "code",
   "execution_count": 7,
   "metadata": {},
   "outputs": [
    {
     "name": "stdout",
     "output_type": "stream",
     "text": [
      "{'09': 251, '13': 1253, '10': 793, '14': 1416, '16': 1814, '23': 543, '12': 687, '17': 1146, '15': 4477, '21': 1745, '20': 1722, '02': 1381, '18': 1439, '03': 421, '05': 464, '19': 1188, '01': 683, '22': 479, '08': 492, '04': 337, '00': 447, '06': 397, '07': 267, '11': 641}\n",
      "{'09': 45, '13': 85, '10': 59, '14': 107, '16': 108, '23': 68, '12': 73, '17': 100, '15': 116, '21': 109, '20': 80, '02': 58, '18': 109, '03': 54, '05': 46, '19': 110, '01': 60, '22': 71, '08': 48, '04': 47, '00': 55, '06': 44, '07': 34, '11': 58}\n"
     ]
    }
   ],
   "source": [
    "import datetime as dt\n",
    "\n",
    "result_list = [] #This will be a nested list\n",
    "\n",
    "for row in ask_posts:\n",
    "    time_created_at = row[-1]\n",
    "    num_comments = int(row[-3])\n",
    "    result_list.append([time_created_at, num_comments]) #Make a list of lists by using '[element1, element 2]'\n",
    "    \n",
    "    \n",
    "#print(result_list)\n",
    "\n",
    "counts_by_hour = {}\n",
    "comments_by_hour = {}\n",
    "\n",
    "for row in result_list:\n",
    "    \n",
    "    date_time = row[0]\n",
    "    comments = row[1]\n",
    "    \n",
    "    date_time_format = \"%m/%d/%Y %H:%M\"\n",
    "    date_time_obj = dt.datetime.strptime(date_time, date_time_format) #Convert string date to object\n",
    "    \n",
    "    hour = date_time_obj.strftime(\"%H\") #Extract the hour from the date-time object\n",
    "    \n",
    "    if hour not in counts_by_hour:\n",
    "        counts_by_hour[hour] = 1\n",
    "        comments_by_hour[hour] = comments\n",
    "        \n",
    "    else:\n",
    "        counts_by_hour[hour] += 1\n",
    "        comments_by_hour[hour] += comments\n",
    "\n",
    "print(comments_by_hour)\n",
    "print(counts_by_hour)\n"
   ]
  },
  {
   "cell_type": "code",
   "execution_count": 8,
   "metadata": {},
   "outputs": [
    {
     "name": "stdout",
     "output_type": "stream",
     "text": [
      "[['09', 5.5777777777777775], ['13', 14.741176470588234], ['10', 13.440677966101696], ['14', 13.233644859813085], ['16', 16.796296296296298], ['23', 7.985294117647059], ['12', 9.41095890410959], ['17', 11.46], ['15', 38.5948275862069], ['21', 16.009174311926607], ['20', 21.525], ['02', 23.810344827586206], ['18', 13.20183486238532], ['03', 7.796296296296297], ['05', 10.08695652173913], ['19', 10.8], ['01', 11.383333333333333], ['22', 6.746478873239437], ['08', 10.25], ['04', 7.170212765957447], ['00', 8.127272727272727], ['06', 9.022727272727273], ['07', 7.852941176470588], ['11', 11.051724137931034]]\n"
     ]
    }
   ],
   "source": [
    "avg_by_hour = []\n",
    "\n",
    "for hour in comments_by_hour:\n",
    "        avg_by_hour.append([hour, comments_by_hour[hour]/counts_by_hour[hour]])\n",
    "\n",
    "print(avg_by_hour)"
   ]
  },
  {
   "cell_type": "markdown",
   "metadata": {},
   "source": [
    "### Sort by the Highest Amount of Comments"
   ]
  },
  {
   "cell_type": "code",
   "execution_count": 9,
   "metadata": {},
   "outputs": [
    {
     "name": "stdout",
     "output_type": "stream",
     "text": [
      "[[38.5948275862069, '15'], [23.810344827586206, '02'], [21.525, '20'], [16.796296296296298, '16'], [16.009174311926607, '21'], [14.741176470588234, '13'], [13.440677966101696, '10'], [13.233644859813085, '14'], [13.20183486238532, '18'], [11.46, '17'], [11.383333333333333, '01'], [11.051724137931034, '11'], [10.8, '19'], [10.25, '08'], [10.08695652173913, '05'], [9.41095890410959, '12'], [9.022727272727273, '06'], [8.127272727272727, '00'], [7.985294117647059, '23'], [7.852941176470588, '07'], [7.796296296296297, '03'], [7.170212765957447, '04'], [6.746478873239437, '22'], [5.5777777777777775, '09']]\n"
     ]
    }
   ],
   "source": [
    "swap_avg_by_hour = []\n",
    "\n",
    "for row in avg_by_hour:\n",
    "    hour = row[0]\n",
    "    comments = row[1]\n",
    "    \n",
    "    empty = hour\n",
    "    hour = comments\n",
    "    comments = empty\n",
    "\n",
    "    \n",
    "    #print(row)\n",
    "    \n",
    "    swap_avg_by_hour.append([hour, comments])\n",
    "\n",
    "# print(swap_avg_by_hour)\n",
    "\n",
    "def sort_func(list_of_lists): #Bubble Sort Algorithm\n",
    "    n = len(list_of_lists)\n",
    "    for i in range(n):\n",
    "        for j in range(0, n-i-1):\n",
    "            if list_of_lists[j][0] < list_of_lists[j+1][0]:\n",
    "                temp = list_of_lists[j]\n",
    "                list_of_lists[j] = list_of_lists[j+1]\n",
    "                list_of_lists[j+1] = temp\n",
    "                \n",
    "    return list_of_lists\n",
    "\n",
    "sorted_swap = sort_func(swap_avg_by_hour)\n",
    "                    \n",
    "print(sorted_swap)          "
   ]
  },
  {
   "cell_type": "markdown",
   "metadata": {},
   "source": [
    "### Top 5 Hours for Ask Posts Comments"
   ]
  },
  {
   "cell_type": "code",
   "execution_count": 10,
   "metadata": {},
   "outputs": [
    {
     "name": "stdout",
     "output_type": "stream",
     "text": [
      "15:00 : 38.59\n",
      "02:00 : 23.81\n",
      "20:00 : 21.52\n",
      "16:00 : 16.80\n",
      "21:00 : 16.01\n",
      "13:00 : 14.74\n",
      "10:00 : 13.44\n",
      "14:00 : 13.23\n",
      "18:00 : 13.20\n",
      "17:00 : 11.46\n",
      "01:00 : 11.38\n",
      "11:00 : 11.05\n",
      "19:00 : 10.80\n",
      "08:00 : 10.25\n",
      "05:00 : 10.09\n",
      "12:00 : 9.41\n",
      "06:00 : 9.02\n",
      "00:00 : 8.13\n",
      "23:00 : 7.99\n",
      "07:00 : 7.85\n",
      "03:00 : 7.80\n",
      "04:00 : 7.17\n",
      "22:00 : 6.75\n",
      "09:00 : 5.58\n"
     ]
    }
   ],
   "source": [
    "import datetime as dt\n",
    "\n",
    "for row in sorted_swap:\n",
    "    comments = row[0]\n",
    "    hour = row[1]\n",
    "    \n",
    "    hour_obj = dt.datetime.strptime(hour, '%H')\n",
    "    hour_formatted = hour_obj.strftime('%H:%M')\n",
    "    \n",
    "    comments_formatted = f'{comments:.2f}'\n",
    "    \n",
    "    ask_posts_comments_hour = [hour_formatted, comments_formatted]\n",
    "    \n",
    "    print(f\"{hour_formatted} : {comments_formatted}\")"
   ]
  },
  {
   "cell_type": "code",
   "execution_count": 11,
   "metadata": {},
   "outputs": [
    {
     "name": "stdout",
     "output_type": "stream",
     "text": [
      "Hour: [38.5948275862069, '15'] and Number of Average Comments: [23.810344827586206, '02']\n",
      "Hour: [38.5948275862069, '15'] and Number of Average Comments: [23.810344827586206, '02']\n",
      "Hour: [38.5948275862069, '15'] and Number of Average Comments: [23.810344827586206, '02']\n",
      "Hour: [38.5948275862069, '15'] and Number of Average Comments: [23.810344827586206, '02']\n",
      "Hour: [38.5948275862069, '15'] and Number of Average Comments: [23.810344827586206, '02']\n"
     ]
    }
   ],
   "source": [
    "for top_5_comments_hour in sorted_swap[:5]:\n",
    "    hour = sorted_swap[0]\n",
    "    avg_comments = sorted_swap[1]\n",
    "    print(f\"Hour: {hour} and Number of Average Comments: {avg_comments}\")"
   ]
  },
  {
   "cell_type": "markdown",
   "metadata": {},
   "source": [
    "## Conclusion"
   ]
  },
  {
   "cell_type": "markdown",
   "metadata": {},
   "source": [
    "#### In this analysis we analyzed two types of posts \"ask HN\" and \"show HN\" to determine which type of post and the time it received the most comments on average.  Our analysis indicates that \"ask HN\" received more average comments than \"Show HN\".  Thus, our analysis was then focused on further analyzing the \"ask HN\" posts.  Our assesment shows that in order to maximize the amount of comments a post (in \"ask HN\" category) receives, we recommend the post be categorized as \"ask post\" and created between 15:00 and 16:00 (3:00 p.m. - 4:00 p.m. EST), since it is around this time that Hacker News receives the most average comments in \"Ask HN\"."
   ]
  },
  {
   "cell_type": "code",
   "execution_count": null,
   "metadata": {},
   "outputs": [],
   "source": []
  }
 ],
 "metadata": {
  "kernelspec": {
   "display_name": "Python 3",
   "language": "python",
   "name": "python3"
  },
  "language_info": {
   "codemirror_mode": {
    "name": "ipython",
    "version": 3
   },
   "file_extension": ".py",
   "mimetype": "text/x-python",
   "name": "python",
   "nbconvert_exporter": "python",
   "pygments_lexer": "ipython3",
   "version": "3.8.2"
  }
 },
 "nbformat": 4,
 "nbformat_minor": 2
}
